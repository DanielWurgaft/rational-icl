{
 "cells": [
  {
   "cell_type": "code",
   "execution_count": 23,
   "metadata": {},
   "outputs": [
    {
     "data": {
      "text/plain": [
       "['prediction_comparison-categorical-sequence-128context_length__0.5mlp_expansion_factor__8num_dims.pdf',\n",
       " 'prediction_comparison-categorical-sequence-128context_length__1mlp_expansion_factor__8num_dims.pdf',\n",
       " 'prediction_comparison-categorical-sequence-128context_length__2mlp_expansion_factor__8num_dims.pdf',\n",
       " 'prediction_comparison-categorical-sequence-128context_length__4mlp_expansion_factor__8num_dims.pdf',\n",
       " 'prediction_comparison-categorical-sequence-128context_length__8mlp_expansion_factor__8num_dims.pdf',\n",
       " 'prediction_comparison-categorical-sequence-128context_length__12mlp_expansion_factor__8num_dims.pdf',\n",
       " 'prediction_comparison-categorical-sequence-128context_length__16mlp_expansion_factor__8num_dims.pdf',\n",
       " 'prediction_comparison-categorical-sequence-128context_length__24mlp_expansion_factor__8num_dims.pdf',\n",
       " 'prediction_comparison-categorical-sequence-128context_length__32mlp_expansion_factor__8num_dims.pdf']"
      ]
     },
     "execution_count": 23,
     "metadata": {},
     "output_type": "execute_result"
    }
   ],
   "source": [
    "# add src to path\n",
    "from pyprojroot import here\n",
    "import sys\n",
    "\n",
    "sys.path.append(str(here(\"src\")))\n",
    "\n",
    "from pyprojroot import here\n",
    "from code.make_figs import FigureGenerator\n",
    "import os\n",
    "\n",
    "task = \"categorical-sequence\"\n",
    "suffix = \"_mlp_titration\"\n",
    "fig_types = [\n",
    "    \"task_diversity_threshold_train_appendix\",\n",
    "    \"transience_eval_appendix\",\n",
    "    \"relative_and_absolute_distance_train\",\n",
    "    \"prediction_comparison\",\n",
    "]\n",
    "fig_type = fig_types[3]\n",
    "\n",
    "\n",
    "pdf_paths = [\n",
    "    f for f in os.listdir(here(f\"figures/{task}/{fig_type}/\")) if f.endswith(\".pdf\")\n",
    "]\n",
    "\n",
    "\n",
    "def is_float(string):\n",
    "    try:\n",
    "        float(string)\n",
    "        return True\n",
    "    except ValueError:\n",
    "        return False\n",
    "\n",
    "\n",
    "# sort figures by name\n",
    "pdf_paths.sort()\n",
    "\n",
    "if task != \"classification\":\n",
    "    # then by num_dims\n",
    "    pdf_paths.sort(key=lambda x: int(x.split(\"num_dims\")[0].split(\"_\")[-1]))\n",
    "else:\n",
    "    # then by mlp_expansion_factor\n",
    "    pdf_paths.sort(\n",
    "        key=lambda x: float(x.split(\"mlp_expansion_factor\")[0].split(\"_\")[-1])\n",
    "    )\n",
    "\n",
    "    # then by num_dims\n",
    "    pdf_paths.sort(key=lambda x: int(x.split(\"num_dims\")[0].split(\"_\")[-1]))\n",
    "\n",
    "if suffix == \"_mlp_titration\":\n",
    "    # sort by mlp_expansion_factor\n",
    "    pdf_paths.sort(\n",
    "        key=lambda x: float(x.split(\"mlp_expansion_factor\")[0].split(\"_\")[-1])\n",
    "    )\n",
    "    # only keep context_length=128 and num_dims=8\n",
    "    pdf_paths = [\n",
    "        path\n",
    "        for path in pdf_paths\n",
    "        if \"context_length\" in path\n",
    "        and int(path.split(\"context_length\")[0].split(\"-\")[-1]) == 128\n",
    "        and \"num_dims\" in path\n",
    "        and int(path.split(\"num_dims\")[0].split(\"_\")[-1]) == 8\n",
    "    ]\n",
    "    # set number of columns to 1\n",
    "    ncols = 1\n",
    "else:\n",
    "    # # only keep mlp_expansion_factor in [0.5, 4, 8]\n",
    "    pdf_paths = [\n",
    "        path\n",
    "        for path in pdf_paths\n",
    "        if \"mlp_expansion_factor\" in path\n",
    "        and is_float(path.split(\"mlp_expansion_factor\")[0].split(\"_\")[-1])\n",
    "        and float(path.split(\"mlp_expansion_factor\")[0].split(\"_\")[-1]) in [0.5, 4, 8]\n",
    "    ]\n",
    "    ncols = 3\n",
    "\n",
    "pdf_paths"
   ]
  },
  {
   "cell_type": "code",
   "execution_count": 24,
   "metadata": {},
   "outputs": [
    {
     "name": "stdout",
     "output_type": "stream",
     "text": [
      "Placed PDF 0 at (36.0, 5162.2) with scale 1.00\n",
      "Placed PDF 1 at (36.0, 4521.6) with scale 1.00\n",
      "Placed PDF 2 at (36.0, 3880.6) with scale 1.00\n",
      "Placed PDF 3 at (36.0, 3239.9) with scale 1.00\n",
      "Placed PDF 4 at (36.0, 2599.3) with scale 1.00\n",
      "Placed PDF 5 at (36.0, 1958.5) with scale 1.00\n",
      "Placed PDF 6 at (36.0, 1317.5) with scale 1.00\n",
      "Placed PDF 7 at (36.0, 676.8) with scale 1.00\n",
      "Placed PDF 8 at (36.0, 36.2) with scale 1.00\n",
      "Applying lossless compression...\n",
      "Successfully saved compressed PDF to /sailhome/wurgaft/normative-icl/figures/categorical-sequence/merged_figs/prediction_comparison_full_mlp_titration.pdf\n",
      "Final file size: 3864966 bytes (3.7 MB)\n"
     ]
    }
   ],
   "source": [
    "output_path = here(\n",
    "    os.path.join(\"figures\", task, \"merged_figs\", f\"{fig_type}_full{suffix}.pdf\")\n",
    ")\n",
    "pdf_paths_full = [\n",
    "    os.path.join(here(), \"figures\", task, fig_type, path) for path in pdf_paths\n",
    "]\n",
    "FigureGenerator.assemble_pdfs_grid(pdf_paths_full, output_path, ncols)"
   ]
  },
  {
   "cell_type": "code",
   "execution_count": null,
   "metadata": {},
   "outputs": [],
   "source": []
  }
 ],
 "metadata": {
  "kernelspec": {
   "display_name": "Python 3 (ipykernel)",
   "language": "python",
   "name": "python3"
  },
  "language_info": {
   "codemirror_mode": {
    "name": "ipython",
    "version": 3
   },
   "file_extension": ".py",
   "mimetype": "text/x-python",
   "name": "python",
   "nbconvert_exporter": "python",
   "pygments_lexer": "ipython3",
   "version": "3.12.2"
  }
 },
 "nbformat": 4,
 "nbformat_minor": 2
}
