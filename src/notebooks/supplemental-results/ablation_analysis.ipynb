{
 "cells": [
  {
   "cell_type": "markdown",
   "metadata": {
    "jp-MarkdownHeadingCollapsed": true
   },
   "source": [
    "# Initialization"
   ]
  },
  {
   "cell_type": "markdown",
   "metadata": {},
   "source": [
    "## Imports\n"
   ]
  },
  {
   "cell_type": "code",
   "execution_count": 1,
   "metadata": {},
   "outputs": [
    {
     "name": "stderr",
     "output_type": "stream",
     "text": [
      "INFO:numexpr.utils:Note: detected 128 virtual cores but NumExpr set to maximum of 64, check \"NUMEXPR_MAX_THREADS\" environment variable.\n",
      "INFO:numexpr.utils:Note: NumExpr detected 128 cores but \"NUMEXPR_MAX_THREADS\" not set, so enforcing safe limit of 16.\n",
      "INFO:numexpr.utils:NumExpr defaulting to 16 threads.\n"
     ]
    }
   ],
   "source": [
    "# add src to path\n",
    "from pyprojroot import here\n",
    "import sys\n",
    "\n",
    "sys.path.append(str(here(\"src\")))\n",
    "\n",
    "# import analysis_utils\n",
    "from code.models import *\n",
    "from code.analysis_utils import *\n",
    "\n",
    "# load other libraries\n",
    "from dotenv import load_dotenv\n",
    "import logging\n",
    "from pyprojroot import here\n",
    "from pandas.errors import SettingWithCopyWarning\n",
    "\n",
    "load_dotenv()\n",
    "\n",
    "from code.make_figs import FigureGenerator\n",
    "from code.analysis_pipeline import AnalysisPipeline\n",
    "\n",
    "# suppress logging and warnings\n",
    "import warnings\n",
    "\n",
    "logging.getLogger(\"code.utils\").setLevel(\n",
    "    logging.WARNING\n",
    ")  # suppress logging of dataset sizes from train_utils\n",
    "logging.getLogger(\"code.models\").setLevel(\n",
    "    logging.WARNING\n",
    ")  # suppress logging of model parameters from models.py\n",
    "warnings.filterwarnings(\"ignore\", category=FutureWarning)\n",
    "warnings.filterwarnings(\"ignore\", category=SettingWithCopyWarning)\n",
    "\n",
    "# configure numpy and pytorch to print entire arrays/tensors\n",
    "np.set_printoptions(threshold=np.inf)\n",
    "torch.set_printoptions(threshold=torch.inf)"
   ]
  },
  {
   "cell_type": "markdown",
   "metadata": {},
   "source": [
    "## Set up analysis pipeline\n"
   ]
  },
  {
   "cell_type": "code",
   "execution_count": 2,
   "metadata": {},
   "outputs": [
    {
     "name": "stdout",
     "output_type": "stream",
     "text": [
      "experiment params:  {'setting': 'categorical-sequence', 'num_dims_lst': [8, 12, 16], 'num_tasks_lst': [4, 8, 16, 32, 64, 128, 256, 512, 1024, 2048, 4096], 'context_length_lst': [128, 256, 320], 'mlp_expansion_factor_lst': [0.5, 4, 8], 'random_seed': 1, 'num_hidden_layers': 1, 'hidden_size': 64, 'batch_size': 64, 'learning_rate': 0.0005, 'max_steps': 100000, 'save_steps': [20, 58, 115, 193, 291, 408, 545, 703, 879, 1076, 1293, 1529, 1785, 2062, 2357, 2673, 3009, 3364, 3739, 4135, 4549, 4984, 5439, 5913, 6407, 6921, 7455, 8009, 8583, 9176, 9789, 10422, 11075, 11748, 12441, 13153, 13885, 14637, 15409, 16201, 17013, 17844, 18695, 19566, 20457, 21368, 22298, 23249, 24219, 25209, 26219, 27249, 28298, 29368, 30457, 31566, 32695, 33844, 35012, 36201, 37409, 38637, 39885, 41153, 42440, 43747, 45075, 46422, 47789, 49175, 50582, 52008, 53455, 54921, 56407, 57912, 59438, 60983, 62548, 64133, 65738, 67363, 69008, 70672, 72356, 74060, 75784, 77528, 79291, 81075, 82878, 84701, 86544, 88407, 90289, 92192, 94114, 96056, 98018, 100000], 'name_suffix': '', 'warmup_steps': 5000}\n"
     ]
    },
    {
     "data": {
      "application/vnd.jupyter.widget-view+json": {
       "model_id": "63c6c8f68ea54048a95acf31d22d3d6e",
       "version_major": 2,
       "version_minor": 0
      },
      "text/plain": [
       "  0%|          | 0/29700 [00:00<?, ?it/s]"
      ]
     },
     "metadata": {},
     "output_type": "display_data"
    }
   ],
   "source": [
    "# choose variables to evaluate\n",
    "CONTEXT_LENGTH_TO_EVAL = [128]\n",
    "MLP_EXPANSION_FACTOR_TO_EVAL = [4]\n",
    "NUM_DIMS_TO_EVAL = [8]\n",
    "NUM_TASKS_TO_EVAL = [4, 8, 16, 32, 64, 128, 256, 512, 1024, 2048, 4096]\n",
    "SETTING = \"categorical-sequence\"\n",
    "EXP_NAME = \"full-exp-params\"\n",
    "\n",
    "fixed_values = {\n",
    "    \"context_length\": CONTEXT_LENGTH_TO_EVAL[0],\n",
    "    \"mlp_expansion_factor\": MLP_EXPANSION_FACTOR_TO_EVAL[0],\n",
    "    \"num_dims\": NUM_DIMS_TO_EVAL[0],\n",
    "}\n",
    "\n",
    "analysis_pipeline = AnalysisPipeline(\n",
    "    setting=SETTING,\n",
    "    exp_name=EXP_NAME,\n",
    "    context_length_to_eval=CONTEXT_LENGTH_TO_EVAL,\n",
    "    mlp_expansion_factor_to_eval=MLP_EXPANSION_FACTOR_TO_EVAL,\n",
    "    num_dims_to_eval=NUM_DIMS_TO_EVAL,\n",
    ")"
   ]
  },
  {
   "cell_type": "markdown",
   "metadata": {},
   "source": [
    "# Functional form ablation analysis"
   ]
  },
  {
   "cell_type": "markdown",
   "metadata": {},
   "source": [
    "## Process data"
   ]
  },
  {
   "cell_type": "code",
   "execution_count": 3,
   "metadata": {},
   "outputs": [
    {
     "data": {
      "application/vnd.jupyter.widget-view+json": {
       "model_id": "5d3713c742f747cb8e82b07f7f29f5ad",
       "version_major": 2,
       "version_minor": 0
      },
      "text/plain": [
       "  0%|          | 0/11 [00:00<?, ?it/s]"
      ]
     },
     "metadata": {},
     "output_type": "display_data"
    },
    {
     "data": {
      "application/vnd.jupyter.widget-view+json": {
       "model_id": "275214871e274290acc49fa51f98e850",
       "version_major": 2,
       "version_minor": 0
      },
      "text/plain": [
       "  0%|          | 0/11 [00:00<?, ?it/s]"
      ]
     },
     "metadata": {},
     "output_type": "display_data"
    }
   ],
   "source": [
    "# process algo_df\n",
    "algo_df = analysis_pipeline.process_algo_df(\n",
    "    analysis_pipeline.algo_df_raw,\n",
    "    num_dims_to_eval=NUM_DIMS_TO_EVAL,\n",
    "    context_length_to_eval=CONTEXT_LENGTH_TO_EVAL,\n",
    "    num_tasks_to_eval=NUM_TASKS_TO_EVAL,\n",
    "    load_saved_evaluation=True,\n",
    ")"
   ]
  },
  {
   "cell_type": "code",
   "execution_count": 4,
   "metadata": {},
   "outputs": [
    {
     "data": {
      "application/vnd.jupyter.widget-view+json": {
       "model_id": "946a74535d344f2fa5aae4fe1f56c965",
       "version_major": 2,
       "version_minor": 0
      },
      "text/plain": [
       "  0%|          | 0/1100 [00:00<?, ?it/s]"
      ]
     },
     "metadata": {},
     "output_type": "display_data"
    },
    {
     "data": {
      "application/vnd.jupyter.widget-view+json": {
       "model_id": "1a4d8e94e405430fb03cafff7a447eb1",
       "version_major": 2,
       "version_minor": 0
      },
      "text/plain": [
       "  0%|          | 0/1100 [00:00<?, ?it/s]"
      ]
     },
     "metadata": {},
     "output_type": "display_data"
    }
   ],
   "source": [
    "transformer_df_all_checkpoints = analysis_pipeline.process_transformer_df(\n",
    "    analysis_pipeline.transformer_df_raw,\n",
    "    algo_df=algo_df,\n",
    "    num_dims_to_eval=NUM_DIMS_TO_EVAL,\n",
    "    context_length_to_eval=CONTEXT_LENGTH_TO_EVAL,\n",
    "    num_tasks_to_eval=NUM_TASKS_TO_EVAL,\n",
    "    mlp_expansion_factor_to_eval=MLP_EXPANSION_FACTOR_TO_EVAL,\n",
    "    load_saved_evaluation=True,\n",
    "    compute_distance_from_algos=True,\n",
    ")\n",
    "\n",
    "transformer_df = find_approximate_interpolation_threshold(\n",
    "    transformer_df_all_checkpoints, threshold_percentile=0.2\n",
    ").query(\"included_in_interpolation_analysis == 1\")"
   ]
  },
  {
   "cell_type": "markdown",
   "metadata": {},
   "source": [
    "## Load standard fit"
   ]
  },
  {
   "cell_type": "code",
   "execution_count": 5,
   "metadata": {},
   "outputs": [
    {
     "name": "stdout",
     "output_type": "stream",
     "text": [
      "batch_size:  64\n",
      "train_checkpoints: [  193   291   408   545   703   879  1076  1293  1529  1785  2062  2357\n",
      "  2673  3009  3364  3739  4135  4549  4984  5439  5913  6407  6921  7455\n",
      "  8009  8583  9176  9789 10422 11075 11748 12441 13153 13885 14637 15409\n",
      " 16201 17013 17844 18695 19566 20457 21368 22298 23249 24219 25209 26219\n",
      " 27249 28298 29368 30457 31566 32695 33844 35012 36201 37409 38637 39885\n",
      " 41153 42440 43747 45075 46422 47789 49175 50582 52008 53455 54921 56407\n",
      " 57912 59438 60983 62548 64133 65738] \n",
      "train_num_tasks: [   4    8   16   32   64  128  256  512 1024]\n"
     ]
    },
    {
     "data": {
      "application/vnd.jupyter.widget-view+json": {
       "model_id": "6b730bcf147b49189ab28ab85e542aeb",
       "version_major": 2,
       "version_minor": 0
      },
      "text/plain": [
       "Loading saved BMS results for all rows:   0%|          | 0/1067 [00:00<?, ?it/s]"
      ]
     },
     "metadata": {},
     "output_type": "display_data"
    }
   ],
   "source": [
    "# fit standard bayesian model free params\n",
    "\n",
    "model_fitter = HierarchicalBayesianModelFitter(\n",
    "    transformer_df=transformer_df,\n",
    "    algo_df=algo_df,\n",
    "    mlp_expansion_factor=MLP_EXPANSION_FACTOR_TO_EVAL[-1],\n",
    "    context_length=CONTEXT_LENGTH_TO_EVAL[-1],\n",
    "    num_dims=NUM_DIMS_TO_EVAL[-1],\n",
    "    params_init=analysis_pipeline.params_init,\n",
    "    metric_name=analysis_pipeline.metric_name,\n",
    "    load_saved_evaluation=True,\n",
    "    remove_last_prediction=analysis_pipeline.remove_last_prediction,\n",
    "    add_to_df=True,\n",
    "    baseline_lst=[\"\"],\n",
    ")\n",
    "transformer_df, history, model = model_fitter.fit()"
   ]
  },
  {
   "cell_type": "markdown",
   "metadata": {},
   "source": [
    "## Ablation fits"
   ]
  },
  {
   "cell_type": "code",
   "execution_count": 10,
   "metadata": {},
   "outputs": [
    {
     "name": "stdout",
     "output_type": "stream",
     "text": [
      "batch_size:  64\n",
      "train_checkpoints: [  193   291   408   545   703   879  1076  1293  1529  1785  2062  2357\n",
      "  2673  3009  3364  3739  4135  4549  4984  5439  5913  6407  6921  7455\n",
      "  8009  8583  9176  9789 10422 11075 11748 12441 13153 13885 14637 15409\n",
      " 16201 17013 17844 18695 19566 20457 21368 22298 23249 24219 25209 26219\n",
      " 27249 28298 29368 30457 31566 32695 33844 35012 36201 37409 38637 39885\n",
      " 41153 42440 43747 45075 46422 47789 49175 50582 52008 53455 54921 56407\n",
      " 57912 59438 60983 62548 64133 65738] \n",
      "train_num_tasks: [   4    8   16   32   64  128  256  512 1024]\n",
      "Processing 1067 rows...\n",
      "Training HierarchicalBayesianModel model with 702 batches...\n",
      "Starting optimization with 3 parameters\n",
      "Initial parameter values: [-6.90775537 -0.22314353  1.09861231]\n",
      "Optimizing with L-BFGS-B...\n"
     ]
    },
    {
     "name": "stderr",
     "output_type": "stream",
     "text": [
      " This problem is unconstrained.                                        \n"
     ]
    },
    {
     "name": "stdout",
     "output_type": "stream",
     "text": [
      "RUNNING THE L-BFGS-B CODE\n",
      "\n",
      "           * * *\n",
      "\n",
      "Machine precision = 2.220D-16\n",
      " N =            3     M =           10\n",
      "\n",
      "At X0         0 variables are exactly at the bounds\n",
      "\n",
      "At iterate    0    f=  2.29203D-02    |proj g|=  3.02646D-02\n"
     ]
    },
    {
     "name": "stderr",
     "output_type": "stream",
     "text": [
      "                                                                       \r"
     ]
    },
    {
     "name": "stdout",
     "output_type": "stream",
     "text": [
      "\n",
      "At iterate    1    f=  8.44789D-03    |proj g|=  6.79169D-03\n"
     ]
    },
    {
     "name": "stderr",
     "output_type": "stream",
     "text": [
      "                                                                       \r"
     ]
    },
    {
     "name": "stdout",
     "output_type": "stream",
     "text": [
      "\n",
      "At iterate    2    f=  7.17739D-03    |proj g|=  4.80786D-03\n"
     ]
    },
    {
     "name": "stderr",
     "output_type": "stream",
     "text": [
      "                                                                       \r"
     ]
    },
    {
     "name": "stdout",
     "output_type": "stream",
     "text": [
      "\n",
      "At iterate    3    f=  6.68086D-03    |proj g|=  1.07218D-03\n"
     ]
    },
    {
     "name": "stderr",
     "output_type": "stream",
     "text": [
      "                                                                       \r"
     ]
    },
    {
     "name": "stdout",
     "output_type": "stream",
     "text": [
      "\n",
      "At iterate    4    f=  6.65452D-03    |proj g|=  3.82072D-04\n"
     ]
    },
    {
     "name": "stderr",
     "output_type": "stream",
     "text": [
      "                                                                       \r"
     ]
    },
    {
     "name": "stdout",
     "output_type": "stream",
     "text": [
      "\n",
      "At iterate    5    f=  6.65039D-03    |proj g|=  3.57112D-04\n"
     ]
    },
    {
     "name": "stderr",
     "output_type": "stream",
     "text": [
      "                                                                       \r"
     ]
    },
    {
     "name": "stdout",
     "output_type": "stream",
     "text": [
      "\n",
      "At iterate    6    f=  6.64726D-03    |proj g|=  3.22579D-04\n"
     ]
    },
    {
     "name": "stderr",
     "output_type": "stream",
     "text": [
      "                                                                       \r"
     ]
    },
    {
     "name": "stdout",
     "output_type": "stream",
     "text": [
      "\n",
      "At iterate    7    f=  6.61802D-03    |proj g|=  6.63079D-04\n"
     ]
    },
    {
     "name": "stderr",
     "output_type": "stream",
     "text": [
      "                                                                       \r"
     ]
    },
    {
     "name": "stdout",
     "output_type": "stream",
     "text": [
      "\n",
      "At iterate    8    f=  5.65334D-03    |proj g|=  2.38460D-03\n"
     ]
    },
    {
     "name": "stderr",
     "output_type": "stream",
     "text": [
      "                                                                       \r"
     ]
    },
    {
     "name": "stdout",
     "output_type": "stream",
     "text": [
      "\n",
      "At iterate    9    f=  5.64622D-03    |proj g|=  3.51721D-03\n"
     ]
    },
    {
     "name": "stderr",
     "output_type": "stream",
     "text": [
      "                                                                       \r"
     ]
    },
    {
     "name": "stdout",
     "output_type": "stream",
     "text": [
      "\n",
      "At iterate   10    f=  5.56549D-03    |proj g|=  1.96075D-03\n"
     ]
    },
    {
     "name": "stderr",
     "output_type": "stream",
     "text": [
      "                                                                       \r"
     ]
    },
    {
     "name": "stdout",
     "output_type": "stream",
     "text": [
      "\n",
      "At iterate   11    f=  5.52798D-03    |proj g|=  6.58383D-04\n"
     ]
    },
    {
     "name": "stderr",
     "output_type": "stream",
     "text": [
      "                                                                       \r"
     ]
    },
    {
     "name": "stdout",
     "output_type": "stream",
     "text": [
      "\n",
      "At iterate   12    f=  5.52124D-03    |proj g|=  3.58349D-04\n"
     ]
    },
    {
     "name": "stderr",
     "output_type": "stream",
     "text": [
      "                                                                       \r"
     ]
    },
    {
     "name": "stdout",
     "output_type": "stream",
     "text": [
      "\n",
      "At iterate   13    f=  5.52112D-03    |proj g|=  2.76201D-04\n"
     ]
    },
    {
     "name": "stderr",
     "output_type": "stream",
     "text": [
      "                                                                       \r"
     ]
    },
    {
     "name": "stdout",
     "output_type": "stream",
     "text": [
      "\n",
      "At iterate   14    f=  5.52094D-03    |proj g|=  2.20092D-06\n"
     ]
    },
    {
     "name": "stderr",
     "output_type": "stream",
     "text": [
      "                                                                       \r"
     ]
    },
    {
     "name": "stdout",
     "output_type": "stream",
     "text": [
      "\n",
      "At iterate   15    f=  5.52094D-03    |proj g|=  1.94654D-06\n",
      "\n",
      "           * * *\n",
      "\n",
      "Tit   = total number of iterations\n",
      "Tnf   = total number of function evaluations\n",
      "Tnint = total number of segments explored during Cauchy searches\n",
      "Skip  = number of BFGS updates skipped\n",
      "Nact  = number of active bounds at final generalized Cauchy point\n",
      "Projg = norm of the final projected gradient\n",
      "F     = final function value\n",
      "\n",
      "           * * *\n",
      "\n",
      "   N    Tit     Tnf  Tnint  Skip  Nact     Projg        F\n",
      "    3     15     23      1     0     0   1.947D-06   5.521D-03\n",
      "  F =   5.5209393613040447E-003\n",
      "\n",
      "CONVERGENCE: REL_REDUCTION_OF_F_<=_FACTR*EPSMCH             \n",
      "Optimization complete with final loss: 0.005521\n",
      "Final parameter values: [-10.00930018  -0.31853696   1.34525043] (when exponentiated: [4.49796597e-05 7.27212201e-01 3.83914787e+00])\n"
     ]
    },
    {
     "data": {
      "application/vnd.jupyter.widget-view+json": {
       "model_id": "66036fe1786d4e6db94a8ba6cb0791f2",
       "version_major": 2,
       "version_minor": 0
      },
      "text/plain": [
       "  0%|          | 0/1067 [00:00<?, ?it/s]"
      ]
     },
     "metadata": {},
     "output_type": "display_data"
    }
   ],
   "source": [
    "# Fit Bayesian model free params with ablations\n",
    "ablation_arg_combos = [\n",
    "    # {\n",
    "    #     \"linear_likelihood\": True,\n",
    "    #     \"fixed_complexity\": False,\n",
    "    #     \"no_random_loss_term\": False,\n",
    "    #     \"linear_param_on_complexity\": False,\n",
    "    #     \"name\": \"linear_likelihood_results\",\n",
    "    #     \"params_init\": {\n",
    "    #         \"log_beta\": torch.log(torch.tensor(0.4)),\n",
    "    #         \"log_alpha\": torch.log(torch.tensor(1.0)),\n",
    "    #         \"log_gamma\": torch.log(torch.tensor(0.05)),\n",
    "    #     },\n",
    "    # },\n",
    "    # {\n",
    "    #     \"linear_likelihood\": False,\n",
    "    #     \"fixed_complexity\": True,\n",
    "    #     \"no_random_loss_term\": False,\n",
    "    #     \"linear_param_on_complexity\": False,\n",
    "    #     \"name\": \"fixed_complexity_results\",\n",
    "    #     \"params_init\": {\n",
    "    #         \"log_beta\": torch.log(torch.tensor(1.0)),\n",
    "    #         \"log_alpha\": torch.log(torch.tensor(0.001)),\n",
    "    #         \"log_gamma\": torch.log(torch.tensor(15)),\n",
    "    #     },\n",
    "    # },\n",
    "    {\n",
    "        \"linear_likelihood\": False,\n",
    "        \"fixed_complexity\": False,\n",
    "        \"no_random_loss_term\": False,\n",
    "        \"linear_param_on_complexity\": True,\n",
    "        \"name\": \"linear_param_on_complexity_results\",\n",
    "        \"params_init\": {\n",
    "            \"log_beta\": torch.log(torch.tensor(0.001)),\n",
    "            \"log_alpha\": torch.log(torch.tensor(0.8)),\n",
    "            \"log_gamma\": torch.log(torch.tensor(3)),\n",
    "        },\n",
    "    },\n",
    "    # {\n",
    "    #     \"linear_likelihood\": False,\n",
    "    #     \"fixed_complexity\": False,\n",
    "    #     \"no_random_loss_term\": True,\n",
    "    #     \"linear_param_on_complexity\": False,\n",
    "    #     \"name\": \"no_random_loss_term_results\",\n",
    "    #     \"params_init\": {\n",
    "    #         \"log_beta\": torch.log(torch.tensor(0.12)),\n",
    "    #         \"log_alpha\": torch.log(torch.tensor(0.8)),\n",
    "    #         \"log_gamma\": torch.log(torch.tensor(1.0)),\n",
    "    #     },\n",
    "    # },\n",
    "    # {\n",
    "    #     \"linear_likelihood\": True,\n",
    "    #     \"fixed_complexity\": True,\n",
    "    #     \"no_random_loss_term\": True,\n",
    "    #     \"linear_param_on_complexity\": False,\n",
    "    #     \"name\": \"no_free_params_results\",\n",
    "    #     \"params_init\": {\n",
    "    #         \"log_beta\": torch.log(torch.tensor(1.0)),\n",
    "    #         \"log_alpha\": torch.log(torch.tensor(1.0)),\n",
    "    #         \"log_gamma\": torch.log(torch.tensor(1.0)),\n",
    "    #     },\n",
    "    # },\n",
    "]\n",
    "\n",
    "\n",
    "for arg_combo in ablation_arg_combos:\n",
    "    model_fitter = HierarchicalBayesianModelFitter(\n",
    "        transformer_df=transformer_df,\n",
    "        algo_df=algo_df,\n",
    "        mlp_expansion_factor=MLP_EXPANSION_FACTOR_TO_EVAL[-1],\n",
    "        context_length=CONTEXT_LENGTH_TO_EVAL[-1],\n",
    "        num_dims=NUM_DIMS_TO_EVAL[-1],\n",
    "        params_init=arg_combo[\"params_init\"],\n",
    "        metric_name=analysis_pipeline.metric_name,\n",
    "        load_saved_evaluation=False,\n",
    "        remove_last_prediction=analysis_pipeline.remove_last_prediction,\n",
    "        add_to_df=True,\n",
    "        ablation_model=True,\n",
    "        ablation_model_args=arg_combo,\n",
    "        out_column=arg_combo[\"name\"],\n",
    "        baseline_lst=[\"\"],\n",
    "    )\n",
    "    transformer_df, history, model = model_fitter.fit()"
   ]
  },
  {
   "cell_type": "code",
   "execution_count": 16,
   "metadata": {},
   "outputs": [
    {
     "name": "stdout",
     "output_type": "stream",
     "text": [
      "Registered Avenir font from: /sailhome/wurgaft/.fonts/Avenir.ttc\n"
     ]
    }
   ],
   "source": [
    "# set up FigureGenerator\n",
    "fig_gen = FigureGenerator(\n",
    "    transformer_df, transformer_df_all_checkpoints, algo_df, SETTING\n",
    ")"
   ]
  },
  {
   "cell_type": "markdown",
   "metadata": {},
   "source": [
    "### Predicting using Bayesian Model "
   ]
  },
  {
   "cell_type": "code",
   "execution_count": 17,
   "metadata": {},
   "outputs": [
    {
     "name": "stdout",
     "output_type": "stream",
     "text": [
      "plotting linear_param_on_complexity_results\n"
     ]
    },
    {
     "name": "stderr",
     "output_type": "stream",
     "text": [
      "/sailhome/wurgaft/normative-icl/src/code/analysis_utils.py:2690: UserWarning: This figure includes Axes that are not compatible with tight_layout, so results might be incorrect.\n",
      "  plt.tight_layout(rect=[0, 0, 0.9, 1])  # Leave space on the right for colorbars\n",
      "/sailhome/wurgaft/normative-icl/src/code/analysis_utils.py:2690: UserWarning: This figure includes Axes that are not compatible with tight_layout, so results might be incorrect.\n",
      "  plt.tight_layout(rect=[0, 0, 0.9, 1])  # Leave space on the right for colorbars\n",
      "/sailhome/wurgaft/normative-icl/src/code/analysis_utils.py:2690: UserWarning: This figure includes Axes that are not compatible with tight_layout, so results might be incorrect.\n",
      "  plt.tight_layout(rect=[0, 0, 0.9, 1])  # Leave space on the right for colorbars\n",
      "INFO:fontTools.subset:maxp pruned\n",
      "INFO:fontTools.subset:cmap pruned\n",
      "INFO:fontTools.subset:kern dropped\n",
      "INFO:fontTools.subset:post pruned\n",
      "INFO:fontTools.subset:meta dropped\n",
      "INFO:fontTools.subset:GPOS pruned\n",
      "INFO:fontTools.subset:GSUB pruned\n",
      "INFO:fontTools.subset:glyf pruned\n",
      "INFO:fontTools.subset:Added gid0 to subset\n",
      "INFO:fontTools.subset:Added first four glyphs to subset\n",
      "INFO:fontTools.subset:Closing glyph list over 'GSUB': 52 glyphs before\n",
      "INFO:fontTools.subset:Glyph names: ['.notdef', '.null', 'B', 'D', 'E', 'F', 'K', 'M', 'N', 'P', 'R', 'S', 'T', 'U', 'V', 'a', 'c', 'd', 'e', 'eight', 'f', 'five', 'four', 'g', 'h', 'hyphen', 'i', 'k', 'l', 'm', 'n', 'nonmarkingreturn', 'o', 'one', 'p', 'parenleft', 'parenright', 'period', 'q', 'r', 's', 'seven', 'six', 'space', 't', 'three', 'two', 'v', 'w', 'x', 'y', 'zero']\n",
      "INFO:fontTools.subset:Glyph IDs:   [0, 1, 2, 3, 9, 12, 13, 19, 28, 31, 32, 42, 44, 45, 47, 49, 54, 62, 86, 96, 105, 110, 118, 120, 123, 125, 133, 135, 136, 142, 143, 147, 152, 156, 163, 171, 173, 174, 176, 181, 192, 195, 199, 200, 204, 206, 211, 219, 220, 221, 222, 228]\n",
      "INFO:fontTools.subset:Closed glyph list over 'GSUB': 52 glyphs after\n",
      "INFO:fontTools.subset:Glyph names: ['.notdef', '.null', 'B', 'D', 'E', 'F', 'K', 'M', 'N', 'P', 'R', 'S', 'T', 'U', 'V', 'a', 'c', 'd', 'e', 'eight', 'f', 'five', 'four', 'g', 'h', 'hyphen', 'i', 'k', 'l', 'm', 'n', 'nonmarkingreturn', 'o', 'one', 'p', 'parenleft', 'parenright', 'period', 'q', 'r', 's', 'seven', 'six', 'space', 't', 'three', 'two', 'v', 'w', 'x', 'y', 'zero']\n",
      "INFO:fontTools.subset:Glyph IDs:   [0, 1, 2, 3, 9, 12, 13, 19, 28, 31, 32, 42, 44, 45, 47, 49, 54, 62, 86, 96, 105, 110, 118, 120, 123, 125, 133, 135, 136, 142, 143, 147, 152, 156, 163, 171, 173, 174, 176, 181, 192, 195, 199, 200, 204, 206, 211, 219, 220, 221, 222, 228]\n",
      "INFO:fontTools.subset:Closing glyph list over 'glyf': 52 glyphs before\n",
      "INFO:fontTools.subset:Glyph names: ['.notdef', '.null', 'B', 'D', 'E', 'F', 'K', 'M', 'N', 'P', 'R', 'S', 'T', 'U', 'V', 'a', 'c', 'd', 'e', 'eight', 'f', 'five', 'four', 'g', 'h', 'hyphen', 'i', 'k', 'l', 'm', 'n', 'nonmarkingreturn', 'o', 'one', 'p', 'parenleft', 'parenright', 'period', 'q', 'r', 's', 'seven', 'six', 'space', 't', 'three', 'two', 'v', 'w', 'x', 'y', 'zero']\n",
      "INFO:fontTools.subset:Glyph IDs:   [0, 1, 2, 3, 9, 12, 13, 19, 28, 31, 32, 42, 44, 45, 47, 49, 54, 62, 86, 96, 105, 110, 118, 120, 123, 125, 133, 135, 136, 142, 143, 147, 152, 156, 163, 171, 173, 174, 176, 181, 192, 195, 199, 200, 204, 206, 211, 219, 220, 221, 222, 228]\n",
      "INFO:fontTools.subset:Closed glyph list over 'glyf': 52 glyphs after\n",
      "INFO:fontTools.subset:Glyph names: ['.notdef', '.null', 'B', 'D', 'E', 'F', 'K', 'M', 'N', 'P', 'R', 'S', 'T', 'U', 'V', 'a', 'c', 'd', 'e', 'eight', 'f', 'five', 'four', 'g', 'h', 'hyphen', 'i', 'k', 'l', 'm', 'n', 'nonmarkingreturn', 'o', 'one', 'p', 'parenleft', 'parenright', 'period', 'q', 'r', 's', 'seven', 'six', 'space', 't', 'three', 'two', 'v', 'w', 'x', 'y', 'zero']\n",
      "INFO:fontTools.subset:Glyph IDs:   [0, 1, 2, 3, 9, 12, 13, 19, 28, 31, 32, 42, 44, 45, 47, 49, 54, 62, 86, 96, 105, 110, 118, 120, 123, 125, 133, 135, 136, 142, 143, 147, 152, 156, 163, 171, 173, 174, 176, 181, 192, 195, 199, 200, 204, 206, 211, 219, 220, 221, 222, 228]\n",
      "INFO:fontTools.subset:Retaining 52 glyphs\n",
      "INFO:fontTools.subset:head subsetting not needed\n",
      "INFO:fontTools.subset:hhea subsetting not needed\n",
      "INFO:fontTools.subset:maxp subsetting not needed\n",
      "INFO:fontTools.subset:OS/2 subsetting not needed\n",
      "INFO:fontTools.subset:hmtx subsetted\n",
      "INFO:fontTools.subset:hdmx subsetted\n",
      "INFO:fontTools.subset:cmap subsetted\n",
      "INFO:fontTools.subset:fpgm subsetting not needed\n",
      "INFO:fontTools.subset:prep subsetting not needed\n",
      "INFO:fontTools.subset:cvt  subsetting not needed\n",
      "INFO:fontTools.subset:loca subsetting not needed\n",
      "INFO:fontTools.subset:post subsetted\n",
      "INFO:fontTools.subset:GDEF subsetted\n",
      "INFO:fontTools.subset:GPOS subsetted\n",
      "INFO:fontTools.subset:GSUB subsetted\n",
      "INFO:fontTools.subset:name subsetting not needed\n",
      "INFO:fontTools.subset:glyf subsetted\n",
      "INFO:fontTools.subset:head pruned\n",
      "INFO:fontTools.subset:OS/2 Unicode ranges pruned: [0]\n",
      "INFO:fontTools.subset:OS/2 CodePage ranges pruned: [0]\n",
      "INFO:fontTools.subset:glyf pruned\n",
      "INFO:fontTools.subset:GDEF pruned to empty; dropped\n",
      "INFO:fontTools.subset:GPOS pruned\n",
      "INFO:fontTools.subset:GSUB pruned\n",
      "INFO:fontTools.subset:name pruned\n",
      "INFO:fontTools.subset:maxp pruned\n",
      "INFO:fontTools.subset:cmap pruned\n",
      "INFO:fontTools.subset:post pruned\n",
      "INFO:fontTools.subset:PCLT dropped\n",
      "WARNING:fontTools.ttLib.tables._h_e_a_d:'created' timestamp seems very low; regarding as unix timestamp\n",
      "WARNING:fontTools.ttLib.tables._h_e_a_d:'modified' timestamp seems very low; regarding as unix timestamp\n",
      "INFO:fontTools.subset:glyf pruned\n",
      "INFO:fontTools.subset:Added gid0 to subset\n",
      "INFO:fontTools.subset:Added first four glyphs to subset\n",
      "INFO:fontTools.subset:Closing glyph list over 'glyf': 6 glyphs before\n",
      "INFO:fontTools.subset:Glyph names: ['.notdef', '.null', 'D', 'N', 'e', 'nonmarkingreturn']\n",
      "INFO:fontTools.subset:Glyph IDs:   [0, 1, 2, 3, 59, 93]\n",
      "INFO:fontTools.subset:Closed glyph list over 'glyf': 6 glyphs after\n",
      "INFO:fontTools.subset:Glyph names: ['.notdef', '.null', 'D', 'N', 'e', 'nonmarkingreturn']\n",
      "INFO:fontTools.subset:Glyph IDs:   [0, 1, 2, 3, 59, 93]\n",
      "INFO:fontTools.subset:Retaining 6 glyphs\n",
      "INFO:fontTools.subset:head subsetting not needed\n",
      "INFO:fontTools.subset:hhea subsetting not needed\n",
      "INFO:fontTools.subset:maxp subsetting not needed\n",
      "INFO:fontTools.subset:OS/2 subsetting not needed\n",
      "INFO:fontTools.subset:hmtx subsetted\n",
      "INFO:fontTools.subset:cmap subsetted\n",
      "INFO:fontTools.subset:fpgm subsetting not needed\n",
      "INFO:fontTools.subset:prep subsetting not needed\n",
      "INFO:fontTools.subset:cvt  subsetting not needed\n",
      "INFO:fontTools.subset:loca subsetting not needed\n",
      "INFO:fontTools.subset:post subsetted\n",
      "INFO:fontTools.subset:name subsetting not needed\n",
      "INFO:fontTools.subset:glyf subsetted\n",
      "INFO:fontTools.subset:head pruned\n",
      "INFO:fontTools.subset:glyf pruned\n",
      "INFO:fontTools.subset:name pruned\n"
     ]
    },
    {
     "name": "stdout",
     "output_type": "stream",
     "text": [
      "Saved figure to /sailhome/wurgaft/normative-icl/figures/categorical-sequence/linear_param_on_complexity_results/linear_param_on_complexity_results-categorical-sequence-128context_length__4mlp_expansion_factor__8num_dims.pdf\n"
     ]
    },
    {
     "data": {
      "image/png": "[encoded data removed]",
      "text/plain": [
       "<Figure size 600x600 with 4 Axes>"
      ]
     },
     "metadata": {},
     "output_type": "display_data"
    }
   ],
   "source": [
    "for arg_combo in ablation_arg_combos:\n",
    "    print(f\"plotting {arg_combo['name']}\")\n",
    "    fig_gen.generate_prediction_comparison_plot(\n",
    "        config={\n",
    "            \"fixed_values\": fixed_values,\n",
    "            \"comparison_col\": \"relative_distance_train\",\n",
    "            \"fit_results_col\": arg_combo[\"name\"],\n",
    "            \"custom_name\": arg_combo[\"name\"],\n",
    "        },\n",
    "        show=True,\n",
    "        save=True,\n",
    "    )"
   ]
  }
 ],
 "metadata": {
  "kernelspec": {
   "display_name": "Python 3 (ipykernel)",
   "language": "python",
   "name": "python3"
  },
  "language_info": {
   "codemirror_mode": {
    "name": "ipython",
    "version": 3
   },
   "file_extension": ".py",
   "mimetype": "text/x-python",
   "name": "python",
   "nbconvert_exporter": "python",
   "pygments_lexer": "ipython3",
   "version": "3.12.2"
  }
 },
 "nbformat": 4,
 "nbformat_minor": 4
}
